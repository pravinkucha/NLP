{
  "nbformat": 4,
  "nbformat_minor": 0,
  "metadata": {
    "colab": {
      "name": "NLP-Lemmatization.ipynb",
      "provenance": [],
      "collapsed_sections": [],
      "authorship_tag": "ABX9TyNHtJUGBAIAr1iSJZd7aokj",
      "include_colab_link": true
    },
    "kernelspec": {
      "name": "python3",
      "display_name": "Python 3"
    }
  },
  "cells": [
    {
      "cell_type": "markdown",
      "metadata": {
        "id": "view-in-github",
        "colab_type": "text"
      },
      "source": [
        "<a href=\"https://colab.research.google.com/github/pravinkucha/NLP/blob/master/NLP_Lemmatization.ipynb\" target=\"_parent\"><img src=\"https://colab.research.google.com/assets/colab-badge.svg\" alt=\"Open In Colab\"/></a>"
      ]
    },
    {
      "cell_type": "code",
      "metadata": {
        "id": "NshlWN-66lLe",
        "colab_type": "code",
        "colab": {
          "base_uri": "https://localhost:8080/",
          "height": 136
        },
        "outputId": "52557353-7d16-4cb9-aed7-094935fc780e"
      },
      "source": [
        "import nltk\n",
        "nltk.download('punkt')\n",
        "nltk.download('stopwords')\n",
        "nltk.download('wordnet')"
      ],
      "execution_count": 19,
      "outputs": [
        {
          "output_type": "stream",
          "text": [
            "[nltk_data] Downloading package punkt to /root/nltk_data...\n",
            "[nltk_data]   Package punkt is already up-to-date!\n",
            "[nltk_data] Downloading package stopwords to /root/nltk_data...\n",
            "[nltk_data]   Package stopwords is already up-to-date!\n",
            "[nltk_data] Downloading package wordnet to /root/nltk_data...\n",
            "[nltk_data]   Unzipping corpora/wordnet.zip.\n"
          ],
          "name": "stdout"
        },
        {
          "output_type": "execute_result",
          "data": {
            "text/plain": [
              "True"
            ]
          },
          "metadata": {
            "tags": []
          },
          "execution_count": 19
        }
      ]
    },
    {
      "cell_type": "code",
      "metadata": {
        "id": "PmitQHwU74BS",
        "colab_type": "code",
        "colab": {}
      },
      "source": [
        "from nltk.stem import WordNetLemmatizer\n",
        "from nltk.corpus import stopwords"
      ],
      "execution_count": 0,
      "outputs": []
    },
    {
      "cell_type": "code",
      "metadata": {
        "id": "WoSh6M_g7DBR",
        "colab_type": "code",
        "colab": {}
      },
      "source": [
        "text = \"\"\"Dr. A.P.J.Abdul Kalam is popularly known as Missile Man Of India.\n",
        "He is the recipient of popular civilian award Bharat Ratna. He is born to a middle class family on October 15 1931 at Ramaswaram in Tamil Naidu.\n",
        "Due to poverty, he was deprived of basic facilities in his childhood but yet he managed to be the most remarkable scientist and 11th President of India.\n",
        "His life history is very encouraging and motivational to many people.\n",
        "He had a strong determination to make India a strong and rich nation.\n",
        "He is renowed scientist , soft spoken and very well mannered. He is the true example for \" Simple living and high thinking\".\n",
        "Under his leadership India launched first satellite launching vehicle- SLV-3. The great achievement in his credit are missiles like \" Prithvi, AGNI, Akash and Trishul.\"\n",
        "Some of his great words, still India remembers are:\n",
        "\" Don't Read Success stories\n",
        "You will get only messages.\n",
        "Read Failure stories\n",
        "You will get some ideas to succeed in life\"\"\";"
      ],
      "execution_count": 0,
      "outputs": []
    },
    {
      "cell_type": "code",
      "metadata": {
        "id": "FXMmJup47dcZ",
        "colab_type": "code",
        "colab": {
          "base_uri": "https://localhost:8080/",
          "height": 34
        },
        "outputId": "40df29c8-d2b2-400c-eea5-295b68187c87"
      },
      "source": [
        "sentences = nltk.sent_tokenize(text.lower())\n",
        "obj_lemmatization = WordNetLemmatizer()\n",
        "print(\"Total Sentences \", len(sentences))"
      ],
      "execution_count": 21,
      "outputs": [
        {
          "output_type": "stream",
          "text": [
            "Total Sentences  12\n"
          ],
          "name": "stdout"
        }
      ]
    },
    {
      "cell_type": "code",
      "metadata": {
        "id": "QMTRxrVm7uPX",
        "colab_type": "code",
        "colab": {
          "base_uri": "https://localhost:8080/",
          "height": 221
        },
        "outputId": "b3b6a408-80b0-4650-bb1d-da35c8cd0ae5"
      },
      "source": [
        "for i in range(len(sentences)):\n",
        "  words = nltk.word_tokenize(sentences[i])\n",
        "  words = [obj_lemmatization.lemmatize(word)  for word in words if word not in set(stopwords.words('english'))]\n",
        "  sentences[i] = ' '.join(words)\n",
        "  print(sentences[i])"
      ],
      "execution_count": 22,
      "outputs": [
        {
          "output_type": "stream",
          "text": [
            "dr. a.p.j.abdul kalam popularly known missile man india .\n",
            "recipient popular civilian award bharat ratna .\n",
            "born middle class family october 15 1931 ramaswaram tamil naidu .\n",
            "due poverty , deprived basic facility childhood yet managed remarkable scientist 11th president india .\n",
            "life history encouraging motivational many people .\n",
            "strong determination make india strong rich nation .\n",
            "renowed scientist , soft spoken well mannered .\n",
            "true example `` simple living high thinking '' .\n",
            "leadership india launched first satellite launching vehicle- slv-3 .\n",
            "great achievement credit missile like `` prithvi , agni , akash trishul . ''\n",
            "great word , still india remembers : '' n't read success story get message .\n",
            "read failure story get idea succeed life\n"
          ],
          "name": "stdout"
        }
      ]
    },
    {
      "cell_type": "code",
      "metadata": {
        "id": "Wzq5dPLM8xZr",
        "colab_type": "code",
        "colab": {}
      },
      "source": [
        ""
      ],
      "execution_count": 0,
      "outputs": []
    }
  ]
}