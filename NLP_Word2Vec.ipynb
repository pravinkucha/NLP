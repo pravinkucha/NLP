{
  "nbformat": 4,
  "nbformat_minor": 0,
  "metadata": {
    "colab": {
      "name": "NLP_Word2Vec.ipynb",
      "provenance": [],
      "collapsed_sections": [],
      "authorship_tag": "ABX9TyOfvqsM9mAJF6H04rqYROEJ",
      "include_colab_link": true
    },
    "kernelspec": {
      "name": "python3",
      "display_name": "Python 3"
    }
  },
  "cells": [
    {
      "cell_type": "markdown",
      "metadata": {
        "id": "view-in-github",
        "colab_type": "text"
      },
      "source": [
        "<a href=\"https://colab.research.google.com/github/pravinkucha/NLP/blob/master/NLP_Word2Vec.ipynb\" target=\"_parent\"><img src=\"https://colab.research.google.com/assets/colab-badge.svg\" alt=\"Open In Colab\"/></a>"
      ]
    },
    {
      "cell_type": "code",
      "metadata": {
        "id": "qXshq_Qkm8Mp",
        "colab_type": "code",
        "colab": {
          "base_uri": "https://localhost:8080/",
          "height": 136
        },
        "outputId": "dbaa36c4-aa2c-4089-c238-d888ce367681"
      },
      "source": [
        "import nltk\n",
        "nltk.download('punkt')\n",
        "nltk.download('stopwords')\n",
        "nltk.download('wordnet')"
      ],
      "execution_count": 1,
      "outputs": [
        {
          "output_type": "stream",
          "text": [
            "[nltk_data] Downloading package punkt to /root/nltk_data...\n",
            "[nltk_data]   Unzipping tokenizers/punkt.zip.\n",
            "[nltk_data] Downloading package stopwords to /root/nltk_data...\n",
            "[nltk_data]   Unzipping corpora/stopwords.zip.\n",
            "[nltk_data] Downloading package wordnet to /root/nltk_data...\n",
            "[nltk_data]   Unzipping corpora/wordnet.zip.\n"
          ],
          "name": "stdout"
        },
        {
          "output_type": "execute_result",
          "data": {
            "text/plain": [
              "True"
            ]
          },
          "metadata": {
            "tags": []
          },
          "execution_count": 1
        }
      ]
    },
    {
      "cell_type": "code",
      "metadata": {
        "id": "u4QNyDxwnZ9y",
        "colab_type": "code",
        "colab": {}
      },
      "source": [
        "text = \"\"\"Dr. A.P.J.Abdul Kalam is popularly known as Missile Man Of India india india.\n",
        "He is the recipient of popular civilian award Bharat Ratna. He is born to a middle class family on October 15 1931 at Ramaswaram in Tamil Naidu.\n",
        "Due to poverty, he was deprived of basic facilities in his childhood but yet he managed to be the most remarkable scientist and 11th President of India.\n",
        "His life history is very encouraging and motivational to many people.\n",
        "He had a strong determination to make India a strong and rich nation.\n",
        "He is renowed scientist , soft spoken and very well mannered. He is the true example for \" Simple living and high thinking\".\n",
        "Under his leadership India launched first satellite launching vehicle- SLV-3. The great achievement in his credit are missiles like \" Prithvi, AGNI, Akash and Trishul.\"\n",
        "Some of his great words, still India remembers are:\n",
        "\" Don't Read Success stories\n",
        "You will get only messages.\n",
        "Read Failure stories\n",
        "You will get some ideas to succeed in life\"\"\";"
      ],
      "execution_count": 0,
      "outputs": []
    },
    {
      "cell_type": "code",
      "metadata": {
        "id": "t-OYQtNindxH",
        "colab_type": "code",
        "colab": {
          "base_uri": "https://localhost:8080/",
          "height": 1000
        },
        "outputId": "ead794ef-2c7b-4dd4-d225-c0edaf1ee81b"
      },
      "source": [
        "from nltk.stem import PorterStemmer\n",
        "from nltk.stem import WordNetLemmatizer\n",
        "from nltk.corpus import stopwords\n",
        "import re\n",
        "\n",
        "sentences = nltk.sent_tokenize(text.lower())\n",
        "obj_stem = PorterStemmer()\n",
        "obj_lemmatizer = WordNetLemmatizer()\n",
        "sent_processed = []\n",
        "print(\"Total Sentences \", len(sentences))\n",
        "for i in range(len(sentences)):\n",
        "  words = re.sub('[^a-zA-Z]',' ',sentences[i])\n",
        "  words = re.sub('\\d',' ',words)\n",
        "  words = re.sub('\\s+',' ',words)\n",
        "  words = nltk.word_tokenize(words)\n",
        "  words = [obj_lemmatizer.lemmatize(word) for word in words if word not in set(stopwords.words('english'))]\n",
        "  sent_processed.append(words)\n",
        "sent_processed"
      ],
      "execution_count": 59,
      "outputs": [
        {
          "output_type": "stream",
          "text": [
            "Total Sentences  12\n"
          ],
          "name": "stdout"
        },
        {
          "output_type": "execute_result",
          "data": {
            "text/plain": [
              "[['dr',\n",
              "  'p',\n",
              "  'j',\n",
              "  'abdul',\n",
              "  'kalam',\n",
              "  'popularly',\n",
              "  'known',\n",
              "  'missile',\n",
              "  'man',\n",
              "  'india',\n",
              "  'india',\n",
              "  'india'],\n",
              " ['recipient', 'popular', 'civilian', 'award', 'bharat', 'ratna'],\n",
              " ['born',\n",
              "  'middle',\n",
              "  'class',\n",
              "  'family',\n",
              "  'october',\n",
              "  'ramaswaram',\n",
              "  'tamil',\n",
              "  'naidu'],\n",
              " ['due',\n",
              "  'poverty',\n",
              "  'deprived',\n",
              "  'basic',\n",
              "  'facility',\n",
              "  'childhood',\n",
              "  'yet',\n",
              "  'managed',\n",
              "  'remarkable',\n",
              "  'scientist',\n",
              "  'th',\n",
              "  'president',\n",
              "  'india'],\n",
              " ['life', 'history', 'encouraging', 'motivational', 'many', 'people'],\n",
              " ['strong', 'determination', 'make', 'india', 'strong', 'rich', 'nation'],\n",
              " ['renowed', 'scientist', 'soft', 'spoken', 'well', 'mannered'],\n",
              " ['true', 'example', 'simple', 'living', 'high', 'thinking'],\n",
              " ['leadership',\n",
              "  'india',\n",
              "  'launched',\n",
              "  'first',\n",
              "  'satellite',\n",
              "  'launching',\n",
              "  'vehicle',\n",
              "  'slv'],\n",
              " ['great',\n",
              "  'achievement',\n",
              "  'credit',\n",
              "  'missile',\n",
              "  'like',\n",
              "  'prithvi',\n",
              "  'agni',\n",
              "  'akash',\n",
              "  'trishul'],\n",
              " ['great',\n",
              "  'word',\n",
              "  'still',\n",
              "  'india',\n",
              "  'remembers',\n",
              "  'read',\n",
              "  'success',\n",
              "  'story',\n",
              "  'get',\n",
              "  'message'],\n",
              " ['read', 'failure', 'story', 'get', 'idea', 'succeed', 'life']]"
            ]
          },
          "metadata": {
            "tags": []
          },
          "execution_count": 59
        }
      ]
    },
    {
      "cell_type": "code",
      "metadata": {
        "id": "dWLECmJ_n3lU",
        "colab_type": "code",
        "colab": {
          "base_uri": "https://localhost:8080/",
          "height": 476
        },
        "outputId": "8d504912-199f-43f0-a93b-697492ddb1ad"
      },
      "source": [
        "from gensim.models import Word2Vec\n",
        "obj_w2v = Word2Vec(sent_processed,min_count=1)\n",
        "#words = obj_w2v.wv.vocab\n",
        "# Finding Word Vectors\n",
        "vec = obj_w2v.wv['india']\n",
        "print(vec.shape)\n",
        "vec"
      ],
      "execution_count": 68,
      "outputs": [
        {
          "output_type": "stream",
          "text": [
            "(100,)\n"
          ],
          "name": "stdout"
        },
        {
          "output_type": "execute_result",
          "data": {
            "text/plain": [
              "array([-1.0399228e-03,  4.4744047e-03,  2.6168972e-03, -3.4466418e-03,\n",
              "       -4.3128529e-03, -4.7823475e-04,  4.1444371e-03,  8.2118012e-04,\n",
              "        3.9431620e-03,  9.0593746e-04, -9.7674900e-04,  4.8518884e-03,\n",
              "        4.9145459e-03,  4.6945484e-03,  2.5371772e-03,  4.1823555e-03,\n",
              "        6.7459774e-04, -2.1698033e-04, -7.9027837e-04,  3.8854510e-03,\n",
              "       -3.8303409e-03, -4.7388757e-03,  4.4153030e-03, -9.3859719e-04,\n",
              "        2.5435151e-03,  1.5180181e-03, -2.4097166e-03, -4.0216343e-03,\n",
              "       -4.2365119e-04,  4.6408279e-03,  2.5331106e-03, -2.6321295e-03,\n",
              "       -4.9231867e-03, -1.9235732e-03, -1.4319069e-04, -4.6912623e-03,\n",
              "       -3.4405475e-03, -1.6719621e-03,  3.2519668e-03,  3.3857238e-03,\n",
              "        4.6127029e-03,  2.8495609e-03, -1.1493883e-03,  2.1282032e-03,\n",
              "       -4.9882564e-03,  2.3398083e-05,  4.9663000e-03, -3.4970138e-03,\n",
              "        4.5536552e-03, -4.6430128e-03, -3.7595525e-03, -4.3984042e-03,\n",
              "        1.6725784e-03, -3.3382748e-04, -4.7910921e-03,  2.3693121e-03,\n",
              "       -1.9805529e-03, -4.6587302e-03,  3.5523891e-03, -2.4061522e-03,\n",
              "        2.0562937e-03, -6.0184859e-04, -3.8869998e-03, -2.1564532e-03,\n",
              "       -4.7190729e-04, -3.0632357e-03,  4.3850564e-03,  4.1013993e-03,\n",
              "        3.8807550e-03,  4.0244074e-03, -3.2072896e-04, -1.7635520e-03,\n",
              "       -4.0953695e-03,  9.0048724e-04, -1.9215995e-03,  1.3912825e-03,\n",
              "        3.3764867e-03,  4.3764017e-03, -3.0567774e-03,  4.5917188e-03,\n",
              "       -1.9145390e-03, -2.1155884e-03,  1.9370007e-03, -1.3820532e-03,\n",
              "       -3.4545125e-03, -4.3845908e-03,  1.2873077e-03, -1.2109022e-03,\n",
              "       -4.8515825e-03,  2.6864649e-03, -8.7158434e-04,  3.7070536e-03,\n",
              "        3.7508686e-03,  4.6146172e-03, -2.4827125e-03, -1.0576002e-04,\n",
              "        2.0084784e-03, -4.1014734e-03, -2.2517478e-03,  3.6078962e-03],\n",
              "      dtype=float32)"
            ]
          },
          "metadata": {
            "tags": []
          },
          "execution_count": 68
        }
      ]
    },
    {
      "cell_type": "code",
      "metadata": {
        "id": "bBzNowwaolVv",
        "colab_type": "code",
        "colab": {
          "base_uri": "https://localhost:8080/",
          "height": 241
        },
        "outputId": "10e8ece6-3dd4-4bae-8420-169e877481e5"
      },
      "source": [
        "#Find Similar Words\n",
        "similarities  = obj_w2v.wv.most_similar('india')\n",
        "similarities\n"
      ],
      "execution_count": 71,
      "outputs": [
        {
          "output_type": "stream",
          "text": [
            "/usr/local/lib/python3.6/dist-packages/gensim/matutils.py:737: FutureWarning: Conversion of the second argument of issubdtype from `int` to `np.signedinteger` is deprecated. In future, it will be treated as `np.int64 == np.dtype(int).type`.\n",
            "  if np.issubdtype(vec.dtype, np.int):\n"
          ],
          "name": "stderr"
        },
        {
          "output_type": "execute_result",
          "data": {
            "text/plain": [
              "[('determination', 0.22344723343849182),\n",
              " ('poverty', 0.2081134021282196),\n",
              " ('due', 0.20296278595924377),\n",
              " ('scientist', 0.16103853285312653),\n",
              " ('first', 0.1556488424539566),\n",
              " ('great', 0.138270765542984),\n",
              " ('prithvi', 0.13613492250442505),\n",
              " ('th', 0.12125072628259659),\n",
              " ('well', 0.12066139280796051),\n",
              " ('bharat', 0.12050146609544754)]"
            ]
          },
          "metadata": {
            "tags": []
          },
          "execution_count": 71
        }
      ]
    },
    {
      "cell_type": "code",
      "metadata": {
        "id": "heN79xU3vO47",
        "colab_type": "code",
        "colab": {
          "base_uri": "https://localhost:8080/",
          "height": 187
        },
        "outputId": "c2eda0a0-d277-4e7e-da4c-8bcf2515c9a9"
      },
      "source": [
        "for word , score in similarities:\n",
        "    print(word , score)"
      ],
      "execution_count": 70,
      "outputs": [
        {
          "output_type": "stream",
          "text": [
            "determination 0.22344723343849182\n",
            "poverty 0.2081134021282196\n",
            "due 0.20296278595924377\n",
            "scientist 0.16103853285312653\n",
            "first 0.1556488424539566\n",
            "great 0.138270765542984\n",
            "prithvi 0.13613492250442505\n",
            "th 0.12125072628259659\n",
            "well 0.12066139280796051\n",
            "bharat 0.12050146609544754\n"
          ],
          "name": "stdout"
        }
      ]
    },
    {
      "cell_type": "code",
      "metadata": {
        "id": "VNtVDAeaxj8l",
        "colab_type": "code",
        "colab": {}
      },
      "source": [
        ""
      ],
      "execution_count": 0,
      "outputs": []
    }
  ]
}