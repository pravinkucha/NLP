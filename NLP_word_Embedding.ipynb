{
  "nbformat": 4,
  "nbformat_minor": 0,
  "metadata": {
    "colab": {
      "name": "NLP-word-Embedding.ipynb",
      "provenance": [],
      "collapsed_sections": [],
      "authorship_tag": "ABX9TyPXW5cY46HvlVXcq5l3K9vk",
      "include_colab_link": true
    },
    "kernelspec": {
      "name": "python3",
      "display_name": "Python 3"
    }
  },
  "cells": [
    {
      "cell_type": "markdown",
      "metadata": {
        "id": "view-in-github",
        "colab_type": "text"
      },
      "source": [
        "<a href=\"https://colab.research.google.com/github/pravinkucha/NLP/blob/master/NLP_word_Embedding.ipynb\" target=\"_parent\"><img src=\"https://colab.research.google.com/assets/colab-badge.svg\" alt=\"Open In Colab\"/></a>"
      ]
    },
    {
      "cell_type": "code",
      "metadata": {
        "id": "x5-isrXC3bUc",
        "colab_type": "code",
        "colab": {}
      },
      "source": [
        "from keras.preprocessing.text import one_hot"
      ],
      "execution_count": 0,
      "outputs": []
    },
    {
      "cell_type": "code",
      "metadata": {
        "id": "Q-Zevroj3qhI",
        "colab_type": "code",
        "colab": {}
      },
      "source": [
        "docs = ['Well done!',\n",
        "        'Well Done friends',\n",
        "\t\t'Good work',\n",
        "\t\t'Great effort',\n",
        "\t\t'nice work',\n",
        "\t\t'Excellent!',\n",
        "\t\t'Weak',\n",
        "\t\t'Poor effort!',\n",
        "\t\t'not good',\n",
        "\t\t'poor work',\n",
        "\t\t'Could have done better.']\n",
        "voc_size = 10000\n",
        "sent_len =7\n",
        "dim = 15\n"
      ],
      "execution_count": 0,
      "outputs": []
    },
    {
      "cell_type": "code",
      "metadata": {
        "id": "8PL3fEko41Xd",
        "colab_type": "code",
        "colab": {
          "base_uri": "https://localhost:8080/",
          "height": 204
        },
        "outputId": "f1646691-8382-4a56-bbef-38906bca8f55"
      },
      "source": [
        "onehot_reps = [one_hot(words,voc_size) for words in docs]\n",
        "onehot_reps"
      ],
      "execution_count": 29,
      "outputs": [
        {
          "output_type": "execute_result",
          "data": {
            "text/plain": [
              "[[7199, 248],\n",
              " [7199, 248, 6836],\n",
              " [5778, 8462],\n",
              " [3228, 870],\n",
              " [3112, 8462],\n",
              " [6999],\n",
              " [2431],\n",
              " [2426, 870],\n",
              " [8906, 5778],\n",
              " [2426, 8462],\n",
              " [2220, 7336, 248, 7055]]"
            ]
          },
          "metadata": {
            "tags": []
          },
          "execution_count": 29
        }
      ]
    },
    {
      "cell_type": "code",
      "metadata": {
        "id": "evFvzNJl5kDb",
        "colab_type": "code",
        "colab": {
          "base_uri": "https://localhost:8080/",
          "height": 221
        },
        "outputId": "8a4ae80e-e467-44d0-deb0-cf8be85d588e"
      },
      "source": [
        "from keras.layers import Embedding\n",
        "from keras.models import Sequential\n",
        "from keras.preprocessing.sequence import pad_sequences\n",
        "import numpy as np\n",
        "embedded_docs  =  pad_sequences(onehot_reps,padding='pre',maxlen=sent_len)\n",
        "print(embedded_docs.shape)\n",
        "embedded_docs"
      ],
      "execution_count": 37,
      "outputs": [
        {
          "output_type": "stream",
          "text": [
            "(11, 7)\n"
          ],
          "name": "stdout"
        },
        {
          "output_type": "execute_result",
          "data": {
            "text/plain": [
              "array([[   0,    0,    0,    0,    0, 7199,  248],\n",
              "       [   0,    0,    0,    0, 7199,  248, 6836],\n",
              "       [   0,    0,    0,    0,    0, 5778, 8462],\n",
              "       [   0,    0,    0,    0,    0, 3228,  870],\n",
              "       [   0,    0,    0,    0,    0, 3112, 8462],\n",
              "       [   0,    0,    0,    0,    0,    0, 6999],\n",
              "       [   0,    0,    0,    0,    0,    0, 2431],\n",
              "       [   0,    0,    0,    0,    0, 2426,  870],\n",
              "       [   0,    0,    0,    0,    0, 8906, 5778],\n",
              "       [   0,    0,    0,    0,    0, 2426, 8462],\n",
              "       [   0,    0,    0, 2220, 7336,  248, 7055]], dtype=int32)"
            ]
          },
          "metadata": {
            "tags": []
          },
          "execution_count": 37
        }
      ]
    },
    {
      "cell_type": "code",
      "metadata": {
        "id": "HKbJnt-z8I6z",
        "colab_type": "code",
        "colab": {}
      },
      "source": [
        "obj_mod = Sequential()\n",
        "obj_mod.add(Embedding(voc_size,dim,input_length=sent_len))\n",
        "obj_mod.compile(optimizer='Adam',loss='mse')"
      ],
      "execution_count": 0,
      "outputs": []
    },
    {
      "cell_type": "code",
      "metadata": {
        "id": "2IVL6tfd9g5g",
        "colab_type": "code",
        "colab": {
          "base_uri": "https://localhost:8080/",
          "height": 187
        },
        "outputId": "d489fdc8-6953-4282-89dc-554ec8f1d783"
      },
      "source": [
        "obj_mod.summary()"
      ],
      "execution_count": 40,
      "outputs": [
        {
          "output_type": "stream",
          "text": [
            "Model: \"sequential_4\"\n",
            "_________________________________________________________________\n",
            "Layer (type)                 Output Shape              Param #   \n",
            "=================================================================\n",
            "embedding_1 (Embedding)      (None, 7, 15)             150000    \n",
            "=================================================================\n",
            "Total params: 150,000\n",
            "Trainable params: 150,000\n",
            "Non-trainable params: 0\n",
            "_________________________________________________________________\n"
          ],
          "name": "stdout"
        }
      ]
    },
    {
      "cell_type": "code",
      "metadata": {
        "id": "F0ti97KV_Y5Q",
        "colab_type": "code",
        "colab": {}
      },
      "source": [
        "print(obj_mod.predict(embedded_docs))"
      ],
      "execution_count": 0,
      "outputs": []
    },
    {
      "cell_type": "code",
      "metadata": {
        "id": "RnBvVdHV_qCf",
        "colab_type": "code",
        "colab": {
          "base_uri": "https://localhost:8080/",
          "height": 34
        },
        "outputId": "2dd5139d-8e91-4da9-cdc6-4d12638e26d9"
      },
      "source": [
        "print(embedded_docs[0])"
      ],
      "execution_count": 45,
      "outputs": [
        {
          "output_type": "stream",
          "text": [
            "[   0    0    0    0    0 7199  248]\n"
          ],
          "name": "stdout"
        }
      ]
    },
    {
      "cell_type": "code",
      "metadata": {
        "id": "_0KmoArX_2OG",
        "colab_type": "code",
        "colab": {
          "base_uri": "https://localhost:8080/",
          "height": 374
        },
        "outputId": "796d1161-6d33-44c9-f0c2-0d7796148896"
      },
      "source": [
        "print(obj_mod.predict(embedded_docs)[0])"
      ],
      "execution_count": 46,
      "outputs": [
        {
          "output_type": "stream",
          "text": [
            "[[ 0.01753093  0.00989018 -0.00398625  0.00455738 -0.01414051  0.02442411\n",
            "   0.00769781  0.01010988  0.02861352 -0.04354255  0.01027855  0.01217734\n",
            "   0.03227555 -0.03353614 -0.01174098]\n",
            " [ 0.01753093  0.00989018 -0.00398625  0.00455738 -0.01414051  0.02442411\n",
            "   0.00769781  0.01010988  0.02861352 -0.04354255  0.01027855  0.01217734\n",
            "   0.03227555 -0.03353614 -0.01174098]\n",
            " [ 0.01753093  0.00989018 -0.00398625  0.00455738 -0.01414051  0.02442411\n",
            "   0.00769781  0.01010988  0.02861352 -0.04354255  0.01027855  0.01217734\n",
            "   0.03227555 -0.03353614 -0.01174098]\n",
            " [ 0.01753093  0.00989018 -0.00398625  0.00455738 -0.01414051  0.02442411\n",
            "   0.00769781  0.01010988  0.02861352 -0.04354255  0.01027855  0.01217734\n",
            "   0.03227555 -0.03353614 -0.01174098]\n",
            " [ 0.01753093  0.00989018 -0.00398625  0.00455738 -0.01414051  0.02442411\n",
            "   0.00769781  0.01010988  0.02861352 -0.04354255  0.01027855  0.01217734\n",
            "   0.03227555 -0.03353614 -0.01174098]\n",
            " [-0.00526454  0.03926236  0.02807966  0.00259094 -0.0411957  -0.00214142\n",
            "   0.03920198  0.02159857  0.0110404   0.00725503 -0.0171046   0.02216499\n",
            "  -0.01835097 -0.0191552  -0.03793999]\n",
            " [ 0.02806971  0.02854661 -0.00425762 -0.01314842 -0.0487881  -0.01300411\n",
            "   0.03669443  0.02400788  0.04834725  0.04658282  0.02622317  0.03487524\n",
            "  -0.0372442  -0.00422716 -0.02503053]]\n"
          ],
          "name": "stdout"
        }
      ]
    }
  ]
}