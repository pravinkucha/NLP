{
  "nbformat": 4,
  "nbformat_minor": 0,
  "metadata": {
    "colab": {
      "name": "NLP-Stemming.ipynb",
      "provenance": [],
      "collapsed_sections": [],
      "authorship_tag": "ABX9TyMnYV1b3OPBmToqNGwLnZKr",
      "include_colab_link": true
    },
    "kernelspec": {
      "name": "python3",
      "display_name": "Python 3"
    }
  },
  "cells": [
    {
      "cell_type": "markdown",
      "metadata": {
        "id": "view-in-github",
        "colab_type": "text"
      },
      "source": [
        "<a href=\"https://colab.research.google.com/github/pravinkucha/NLP/blob/master/NLP_Stemming.ipynb\" target=\"_parent\"><img src=\"https://colab.research.google.com/assets/colab-badge.svg\" alt=\"Open In Colab\"/></a>"
      ]
    },
    {
      "cell_type": "code",
      "metadata": {
        "id": "zL07UyXQvAGk",
        "colab_type": "code",
        "colab": {
          "base_uri": "https://localhost:8080/",
          "height": 102
        },
        "outputId": "8ba0fcae-e466-43e4-bd91-4df608d7e1ae"
      },
      "source": [
        "import nltk\n",
        "nltk.download('punkt')\n",
        "nltk.download('stopwords')\n"
      ],
      "execution_count": 23,
      "outputs": [
        {
          "output_type": "stream",
          "text": [
            "[nltk_data] Downloading package punkt to /root/nltk_data...\n",
            "[nltk_data]   Package punkt is already up-to-date!\n",
            "[nltk_data] Downloading package stopwords to /root/nltk_data...\n",
            "[nltk_data]   Unzipping corpora/stopwords.zip.\n"
          ],
          "name": "stdout"
        },
        {
          "output_type": "execute_result",
          "data": {
            "text/plain": [
              "True"
            ]
          },
          "metadata": {
            "tags": []
          },
          "execution_count": 23
        }
      ]
    },
    {
      "cell_type": "code",
      "metadata": {
        "id": "1KqrBcTDxwFV",
        "colab_type": "code",
        "colab": {
          "base_uri": "https://localhost:8080/",
          "height": 1000
        },
        "outputId": "cfbd0a7a-391a-403b-f2e2-65a64c520ddd"
      },
      "source": [
        "from nltk.stem import PorterStemmer\n",
        "from nltk.corpus import stopwords\n",
        "stopwords.words('english')"
      ],
      "execution_count": 31,
      "outputs": [
        {
          "output_type": "execute_result",
          "data": {
            "text/plain": [
              "['i',\n",
              " 'me',\n",
              " 'my',\n",
              " 'myself',\n",
              " 'we',\n",
              " 'our',\n",
              " 'ours',\n",
              " 'ourselves',\n",
              " 'you',\n",
              " \"you're\",\n",
              " \"you've\",\n",
              " \"you'll\",\n",
              " \"you'd\",\n",
              " 'your',\n",
              " 'yours',\n",
              " 'yourself',\n",
              " 'yourselves',\n",
              " 'he',\n",
              " 'him',\n",
              " 'his',\n",
              " 'himself',\n",
              " 'she',\n",
              " \"she's\",\n",
              " 'her',\n",
              " 'hers',\n",
              " 'herself',\n",
              " 'it',\n",
              " \"it's\",\n",
              " 'its',\n",
              " 'itself',\n",
              " 'they',\n",
              " 'them',\n",
              " 'their',\n",
              " 'theirs',\n",
              " 'themselves',\n",
              " 'what',\n",
              " 'which',\n",
              " 'who',\n",
              " 'whom',\n",
              " 'this',\n",
              " 'that',\n",
              " \"that'll\",\n",
              " 'these',\n",
              " 'those',\n",
              " 'am',\n",
              " 'is',\n",
              " 'are',\n",
              " 'was',\n",
              " 'were',\n",
              " 'be',\n",
              " 'been',\n",
              " 'being',\n",
              " 'have',\n",
              " 'has',\n",
              " 'had',\n",
              " 'having',\n",
              " 'do',\n",
              " 'does',\n",
              " 'did',\n",
              " 'doing',\n",
              " 'a',\n",
              " 'an',\n",
              " 'the',\n",
              " 'and',\n",
              " 'but',\n",
              " 'if',\n",
              " 'or',\n",
              " 'because',\n",
              " 'as',\n",
              " 'until',\n",
              " 'while',\n",
              " 'of',\n",
              " 'at',\n",
              " 'by',\n",
              " 'for',\n",
              " 'with',\n",
              " 'about',\n",
              " 'against',\n",
              " 'between',\n",
              " 'into',\n",
              " 'through',\n",
              " 'during',\n",
              " 'before',\n",
              " 'after',\n",
              " 'above',\n",
              " 'below',\n",
              " 'to',\n",
              " 'from',\n",
              " 'up',\n",
              " 'down',\n",
              " 'in',\n",
              " 'out',\n",
              " 'on',\n",
              " 'off',\n",
              " 'over',\n",
              " 'under',\n",
              " 'again',\n",
              " 'further',\n",
              " 'then',\n",
              " 'once',\n",
              " 'here',\n",
              " 'there',\n",
              " 'when',\n",
              " 'where',\n",
              " 'why',\n",
              " 'how',\n",
              " 'all',\n",
              " 'any',\n",
              " 'both',\n",
              " 'each',\n",
              " 'few',\n",
              " 'more',\n",
              " 'most',\n",
              " 'other',\n",
              " 'some',\n",
              " 'such',\n",
              " 'no',\n",
              " 'nor',\n",
              " 'not',\n",
              " 'only',\n",
              " 'own',\n",
              " 'same',\n",
              " 'so',\n",
              " 'than',\n",
              " 'too',\n",
              " 'very',\n",
              " 's',\n",
              " 't',\n",
              " 'can',\n",
              " 'will',\n",
              " 'just',\n",
              " 'don',\n",
              " \"don't\",\n",
              " 'should',\n",
              " \"should've\",\n",
              " 'now',\n",
              " 'd',\n",
              " 'll',\n",
              " 'm',\n",
              " 'o',\n",
              " 're',\n",
              " 've',\n",
              " 'y',\n",
              " 'ain',\n",
              " 'aren',\n",
              " \"aren't\",\n",
              " 'couldn',\n",
              " \"couldn't\",\n",
              " 'didn',\n",
              " \"didn't\",\n",
              " 'doesn',\n",
              " \"doesn't\",\n",
              " 'hadn',\n",
              " \"hadn't\",\n",
              " 'hasn',\n",
              " \"hasn't\",\n",
              " 'haven',\n",
              " \"haven't\",\n",
              " 'isn',\n",
              " \"isn't\",\n",
              " 'ma',\n",
              " 'mightn',\n",
              " \"mightn't\",\n",
              " 'mustn',\n",
              " \"mustn't\",\n",
              " 'needn',\n",
              " \"needn't\",\n",
              " 'shan',\n",
              " \"shan't\",\n",
              " 'shouldn',\n",
              " \"shouldn't\",\n",
              " 'wasn',\n",
              " \"wasn't\",\n",
              " 'weren',\n",
              " \"weren't\",\n",
              " 'won',\n",
              " \"won't\",\n",
              " 'wouldn',\n",
              " \"wouldn't\"]"
            ]
          },
          "metadata": {
            "tags": []
          },
          "execution_count": 31
        }
      ]
    },
    {
      "cell_type": "code",
      "metadata": {
        "id": "2uHD2uDGwU7v",
        "colab_type": "code",
        "colab": {
          "base_uri": "https://localhost:8080/",
          "height": 54
        },
        "outputId": "0f986994-bd7f-4544-af3c-fcb40df5afb9"
      },
      "source": [
        "text = \"\"\"Dr. A.P.J.Abdul Kalam is popularly known as Missile Man Of India.\n",
        "He is the recipient of popular civilian award Bharat Ratna. He is born to a middle class family on October 15 1931 at Ramaswaram in Tamil Naidu.\n",
        "Due to poverty, he was deprived of basic facilities in his childhood but yet he managed to be the most remarkable scientist and 11th President of India.\n",
        "His life history is very encouraging and motivational to many people.\n",
        "He had a strong determination to make India a strong and rich nation.\n",
        "He is renowed scientist , soft spoken and very well mannered. He is the true example for \" Simple living and high thinking\".\n",
        "Under his leadership India launched first satellite launching vehicle- SLV-3. The great achievement in his credit are missiles like \" Prithvi, AGNI, Akash and Trishul.\"\n",
        "Some of his great words, still India remembers are:\n",
        "\" Don't Read Success stories\n",
        "You will get only messages.\n",
        "Read Failure stories\n",
        "You will get some ideas to succeed in life\"\"\";\n",
        "text.lower()"
      ],
      "execution_count": 34,
      "outputs": [
        {
          "output_type": "execute_result",
          "data": {
            "text/plain": [
              "'dr. a.p.j.abdul kalam is popularly known as missile man of india.\\nhe is the recipient of popular civilian award bharat ratna. he is born to a middle class family on october 15 1931 at ramaswaram in tamil naidu.\\ndue to poverty, he was deprived of basic facilities in his childhood but yet he managed to be the most remarkable scientist and 11th president of india.\\nhis life history is very encouraging and motivational to many people.\\nhe had a strong determination to make india a strong and rich nation.\\nhe is renowed scientist , soft spoken and very well mannered. he is the true example for \" simple living and high thinking\".\\nunder his leadership india launched first satellite launching vehicle- slv-3. the great achievement in his credit are missiles like \" prithvi, agni, akash and trishul.\"\\nsome of his great words, still india remembers are:\\n\" don\\'t read success stories\\nyou will get only messages.\\nread failure stories\\nyou will get some ideas to succeed in life'"
            ]
          },
          "metadata": {
            "tags": []
          },
          "execution_count": 34
        }
      ]
    },
    {
      "cell_type": "code",
      "metadata": {
        "id": "nPGpxb7TxBkX",
        "colab_type": "code",
        "colab": {
          "base_uri": "https://localhost:8080/",
          "height": 241
        },
        "outputId": "bc813588-567f-426b-881e-c1da1e6d9655"
      },
      "source": [
        "sentences = nltk.sent_tokenize(text.lower())\n",
        "sentences"
      ],
      "execution_count": 35,
      "outputs": [
        {
          "output_type": "execute_result",
          "data": {
            "text/plain": [
              "['dr. a.p.j.abdul kalam is popularly known as missile man of india.',\n",
              " 'he is the recipient of popular civilian award bharat ratna.',\n",
              " 'he is born to a middle class family on october 15 1931 at ramaswaram in tamil naidu.',\n",
              " 'due to poverty, he was deprived of basic facilities in his childhood but yet he managed to be the most remarkable scientist and 11th president of india.',\n",
              " 'his life history is very encouraging and motivational to many people.',\n",
              " 'he had a strong determination to make india a strong and rich nation.',\n",
              " 'he is renowed scientist , soft spoken and very well mannered.',\n",
              " 'he is the true example for \" simple living and high thinking\".',\n",
              " 'under his leadership india launched first satellite launching vehicle- slv-3.',\n",
              " 'the great achievement in his credit are missiles like \" prithvi, agni, akash and trishul.\"',\n",
              " 'some of his great words, still india remembers are:\\n\" don\\'t read success stories\\nyou will get only messages.',\n",
              " 'read failure stories\\nyou will get some ideas to succeed in life']"
            ]
          },
          "metadata": {
            "tags": []
          },
          "execution_count": 35
        }
      ]
    },
    {
      "cell_type": "code",
      "metadata": {
        "id": "T3q0HywjxVEi",
        "colab_type": "code",
        "colab": {
          "base_uri": "https://localhost:8080/",
          "height": 238
        },
        "outputId": "200c76e0-4d41-46d2-941b-9f95c5860e50"
      },
      "source": [
        "obj_stem = PorterStemmer()\n",
        "print(\"Total Sentences \", len(sentences))\n",
        "for i in range(len(sentences)):\n",
        "  words = nltk.word_tokenize(sentences[i])\n",
        "  words = [ obj_stem.stem(word) for word in words if word not in set(stopwords.words('english')) ]\n",
        "  sentences[i] = ' '.join(words)\n",
        "  print(sentences[i])\n",
        "\n",
        "\n"
      ],
      "execution_count": 37,
      "outputs": [
        {
          "output_type": "stream",
          "text": [
            "Total Sentences  12\n",
            "dr. a.p.j.abdul kalam popularli known missil man india .\n",
            "recipi popular civilian award bharat ratna .\n",
            "born middl class famili octob 15 1931 ramaswaram tamil naidu .\n",
            "due poverti , depriv basic facil childhood yet manag remark scientist 11th presid india .\n",
            "life histori encourag motiv mani peopl .\n",
            "strong determin make india strong rich nation .\n",
            "renow scientist , soft spoken well manner .\n",
            "true exampl `` simpl live high think '' .\n",
            "leadership india launch first satellit launch vehicle- slv-3 .\n",
            "great achiev credit missil like `` prithvi , agni , akash trishul . ''\n",
            "great word , still india rememb : '' n't read success stori get messag .\n",
            "read failur stori get idea succeed life\n"
          ],
          "name": "stdout"
        }
      ]
    },
    {
      "cell_type": "code",
      "metadata": {
        "id": "BRULIC6n1S77",
        "colab_type": "code",
        "colab": {}
      },
      "source": [
        ""
      ],
      "execution_count": 0,
      "outputs": []
    }
  ]
}